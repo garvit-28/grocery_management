{
 "cells": [
  {
   "cell_type": "code",
   "execution_count": null,
   "id": "3c4199ee-0338-40e1-877f-ca3decd77143",
   "metadata": {},
   "outputs": [],
   "source": [
    "#Creating an inventory dictionary to store items"
   ]
  },
  {
   "cell_type": "code",
   "execution_count": null,
   "id": "d1c196cc-209c-4d43-a11a-acf0bdb8c020",
   "metadata": {},
   "outputs": [
    {
     "name": "stdout",
     "output_type": "stream",
     "text": [
      "\n",
      "Options:\n",
      "1. Add new item to inventory\n",
      "2. Update item quantity\n",
      "3. View current inventory\n",
      "4. Remove item from inventory\n",
      "5. Exit\n"
     ]
    }
   ],
   "source": [
    "# Initialize an empty inventory as a dictionary where keys are item names and values are dictionaries containing quantity and price.\n",
    "inventory = {}\n",
    "\n",
    "# Function to add a new item to the inventory\n",
    "def add_item():\n",
    "    item_name = input(\"Enter item name: \")\n",
    "    quantity = int(input(\"Enter quantity: \"))\n",
    "    price = float(input(\"Enter price per item: \"))\n",
    "    \n",
    "    inventory[item_name] = {\"quantity\": quantity, \"price\": price}\n",
    "    print(f\"{item_name} added to the inventory.\")\n",
    "\n",
    "# Function to update the quantity of an existing item\n",
    "def update_quantity():\n",
    "    item_name = input(\"Enter item name to update quantity: \")\n",
    "    if item_name in inventory:\n",
    "        quantity_change = int(input(\"Enter the change in quantity: \"))\n",
    "        inventory[item_name][\"quantity\"] += quantity_change\n",
    "        print(f\"Updated quantity of {item_name} to {inventory[item_name]['quantity']}.\")\n",
    "    else:\n",
    "        print(f\"{item_name} is not in the inventory.\")\n",
    "\n",
    "# Function to view the current inventory\n",
    "def view_inventory():\n",
    "    print(\"\\nCurrent Inventory:\")\n",
    "    for item_name, item_info in inventory.items():\n",
    "        print(f\"{item_name}: Quantity - {item_info['quantity']}, Price - ${item_info['price']:.2f}\")\n",
    "\n",
    "# Function to remove an item from the inventory\n",
    "def remove_item():\n",
    "    item_name = input(\"Enter item name to remove: \")\n",
    "    if item_name in inventory:\n",
    "        del inventory[item_name]\n",
    "        print(f\"{item_name} removed from the inventory.\")\n",
    "    else:\n",
    "        print(f\"{item_name} is not in the inventory.\")\n",
    "\n",
    "# Main program loop\n",
    "while True:\n",
    "    print(\"\\nOptions:\")\n",
    "    print(\"1. Add new item to inventory\")\n",
    "    print(\"2. Update item quantity\")\n",
    "    print(\"3. View current inventory\")\n",
    "    print(\"4. Remove item from inventory\")\n",
    "    print(\"5. Exit\")\n",
    "\n",
    "    choice = input(\"Enter your choice (1/2/3/4/5): \")\n",
    "\n",
    "    if choice == \"1\":\n",
    "        add_item()\n",
    "    elif choice == \"2\":\n",
    "        update_quantity()\n",
    "    elif choice == \"3\":\n",
    "        view_inventory()\n",
    "    elif choice == \"4\":\n",
    "        remove_item()\n",
    "    elif choice == \"5\":\n",
    "        break\n",
    "    else:\n",
    "        print(\"Invalid choice. Please select a valid option (1/2/3/4/5).\")\n",
    "\n",
    "print(\"Thank you for using the inventory management system!\")\n"
   ]
  },
  {
   "cell_type": "code",
   "execution_count": null,
   "id": "4085f9cb-3731-4211-9bc7-ab7e9b68268e",
   "metadata": {},
   "outputs": [],
   "source": []
  }
 ],
 "metadata": {
  "kernelspec": {
   "display_name": "Python 3 (ipykernel)",
   "language": "python",
   "name": "python3"
  },
  "language_info": {
   "codemirror_mode": {
    "name": "ipython",
    "version": 3
   },
   "file_extension": ".py",
   "mimetype": "text/x-python",
   "name": "python",
   "nbconvert_exporter": "python",
   "pygments_lexer": "ipython3",
   "version": "3.11.6"
  }
 },
 "nbformat": 4,
 "nbformat_minor": 5
}
